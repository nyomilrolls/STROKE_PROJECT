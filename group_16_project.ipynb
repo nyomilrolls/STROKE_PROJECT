{
 "cells": [
  {
   "cell_type": "code",
   "execution_count": 1,
   "id": "e4f6606c-96f4-4780-a3b1-1d8c77d1965d",
   "metadata": {},
   "outputs": [
    {
     "name": "stderr",
     "output_type": "stream",
     "text": [
      "Warning message:\n",
      "“package ‘ggplot2’ was built under R version 4.3.2”\n",
      "── \u001b[1mAttaching core tidyverse packages\u001b[22m ──────────────────────── tidyverse 2.0.0 ──\n",
      "\u001b[32m✔\u001b[39m \u001b[34mdplyr    \u001b[39m 1.1.3     \u001b[32m✔\u001b[39m \u001b[34mreadr    \u001b[39m 2.1.4\n",
      "\u001b[32m✔\u001b[39m \u001b[34mforcats  \u001b[39m 1.0.0     \u001b[32m✔\u001b[39m \u001b[34mstringr  \u001b[39m 1.5.0\n",
      "\u001b[32m✔\u001b[39m \u001b[34mggplot2  \u001b[39m 3.5.0     \u001b[32m✔\u001b[39m \u001b[34mtibble   \u001b[39m 3.2.1\n",
      "\u001b[32m✔\u001b[39m \u001b[34mlubridate\u001b[39m 1.9.2     \u001b[32m✔\u001b[39m \u001b[34mtidyr    \u001b[39m 1.3.0\n",
      "\u001b[32m✔\u001b[39m \u001b[34mpurrr    \u001b[39m 1.0.2     \n",
      "── \u001b[1mConflicts\u001b[22m ────────────────────────────────────────── tidyverse_conflicts() ──\n",
      "\u001b[31m✖\u001b[39m \u001b[34mdplyr\u001b[39m::\u001b[32mfilter()\u001b[39m masks \u001b[34mstats\u001b[39m::filter()\n",
      "\u001b[31m✖\u001b[39m \u001b[34mdplyr\u001b[39m::\u001b[32mlag()\u001b[39m    masks \u001b[34mstats\u001b[39m::lag()\n",
      "\u001b[36mℹ\u001b[39m Use the conflicted package (\u001b[3m\u001b[34m<http://conflicted.r-lib.org/>\u001b[39m\u001b[23m) to force all conflicts to become errors\n",
      "── \u001b[1mAttaching packages\u001b[22m ────────────────────────────────────── tidymodels 1.1.1 ──\n",
      "\n",
      "\u001b[32m✔\u001b[39m \u001b[34mbroom       \u001b[39m 1.0.5     \u001b[32m✔\u001b[39m \u001b[34mrsample     \u001b[39m 1.2.0\n",
      "\u001b[32m✔\u001b[39m \u001b[34mdials       \u001b[39m 1.2.0     \u001b[32m✔\u001b[39m \u001b[34mtune        \u001b[39m 1.1.2\n",
      "\u001b[32m✔\u001b[39m \u001b[34minfer       \u001b[39m 1.0.5     \u001b[32m✔\u001b[39m \u001b[34mworkflows   \u001b[39m 1.1.3\n",
      "\u001b[32m✔\u001b[39m \u001b[34mmodeldata   \u001b[39m 1.2.0     \u001b[32m✔\u001b[39m \u001b[34mworkflowsets\u001b[39m 1.0.1\n",
      "\u001b[32m✔\u001b[39m \u001b[34mparsnip     \u001b[39m 1.1.1     \u001b[32m✔\u001b[39m \u001b[34myardstick   \u001b[39m 1.2.0\n",
      "\u001b[32m✔\u001b[39m \u001b[34mrecipes     \u001b[39m 1.0.8     \n",
      "\n",
      "── \u001b[1mConflicts\u001b[22m ───────────────────────────────────────── tidymodels_conflicts() ──\n",
      "\u001b[31m✖\u001b[39m \u001b[34mscales\u001b[39m::\u001b[32mdiscard()\u001b[39m masks \u001b[34mpurrr\u001b[39m::discard()\n",
      "\u001b[31m✖\u001b[39m \u001b[34mdplyr\u001b[39m::\u001b[32mfilter()\u001b[39m   masks \u001b[34mstats\u001b[39m::filter()\n",
      "\u001b[31m✖\u001b[39m \u001b[34mrecipes\u001b[39m::\u001b[32mfixed()\u001b[39m  masks \u001b[34mstringr\u001b[39m::fixed()\n",
      "\u001b[31m✖\u001b[39m \u001b[34mdplyr\u001b[39m::\u001b[32mlag()\u001b[39m      masks \u001b[34mstats\u001b[39m::lag()\n",
      "\u001b[31m✖\u001b[39m \u001b[34myardstick\u001b[39m::\u001b[32mspec()\u001b[39m masks \u001b[34mreadr\u001b[39m::spec()\n",
      "\u001b[31m✖\u001b[39m \u001b[34mrecipes\u001b[39m::\u001b[32mstep()\u001b[39m   masks \u001b[34mstats\u001b[39m::step()\n",
      "\u001b[34m•\u001b[39m Dig deeper into tidy modeling with R at \u001b[32mhttps://www.tmwr.org\u001b[39m\n",
      "\n"
     ]
    }
   ],
   "source": [
    "library(tidyverse)\n",
    "library(repr)\n",
    "library(tidymodels)"
   ]
  },
  {
   "cell_type": "code",
   "execution_count": 2,
   "id": "f1562c0a-eac8-4f50-8338-e14df43b4dd3",
   "metadata": {},
   "outputs": [
    {
     "name": "stderr",
     "output_type": "stream",
     "text": [
      "\u001b[1mRows: \u001b[22m\u001b[34m5110\u001b[39m \u001b[1mColumns: \u001b[22m\u001b[34m12\u001b[39m\n",
      "\u001b[36m──\u001b[39m \u001b[1mColumn specification\u001b[22m \u001b[36m────────────────────────────────────────────────────────\u001b[39m\n",
      "\u001b[1mDelimiter:\u001b[22m \",\"\n",
      "\u001b[31mchr\u001b[39m (6): gender, ever_married, work_type, Residence_type, bmi, smoking_status\n",
      "\u001b[32mdbl\u001b[39m (6): id, age, hypertension, heart_disease, avg_glucose_level, stroke\n",
      "\n",
      "\u001b[36mℹ\u001b[39m Use `spec()` to retrieve the full column specification for this data.\n",
      "\u001b[36mℹ\u001b[39m Specify the column types or set `show_col_types = FALSE` to quiet this message.\n"
     ]
    },
    {
     "data": {
      "text/html": [
       "<table class=\"dataframe\">\n",
       "<caption>A tibble: 6 × 12</caption>\n",
       "<thead>\n",
       "\t<tr><th scope=col>id</th><th scope=col>gender</th><th scope=col>age</th><th scope=col>hypertension</th><th scope=col>heart_disease</th><th scope=col>ever_married</th><th scope=col>work_type</th><th scope=col>Residence_type</th><th scope=col>avg_glucose_level</th><th scope=col>bmi</th><th scope=col>smoking_status</th><th scope=col>stroke</th></tr>\n",
       "\t<tr><th scope=col>&lt;dbl&gt;</th><th scope=col>&lt;chr&gt;</th><th scope=col>&lt;dbl&gt;</th><th scope=col>&lt;dbl&gt;</th><th scope=col>&lt;dbl&gt;</th><th scope=col>&lt;chr&gt;</th><th scope=col>&lt;chr&gt;</th><th scope=col>&lt;chr&gt;</th><th scope=col>&lt;dbl&gt;</th><th scope=col>&lt;chr&gt;</th><th scope=col>&lt;chr&gt;</th><th scope=col>&lt;dbl&gt;</th></tr>\n",
       "</thead>\n",
       "<tbody>\n",
       "\t<tr><td> 9046</td><td>Male  </td><td>67</td><td>0</td><td>1</td><td>Yes</td><td>Private      </td><td>Urban</td><td>228.69</td><td>36.6</td><td>formerly smoked</td><td>1</td></tr>\n",
       "\t<tr><td>51676</td><td>Female</td><td>61</td><td>0</td><td>0</td><td>Yes</td><td>Self-employed</td><td>Rural</td><td>202.21</td><td>N/A </td><td>never smoked   </td><td>1</td></tr>\n",
       "\t<tr><td>31112</td><td>Male  </td><td>80</td><td>0</td><td>1</td><td>Yes</td><td>Private      </td><td>Rural</td><td>105.92</td><td>32.5</td><td>never smoked   </td><td>1</td></tr>\n",
       "\t<tr><td>60182</td><td>Female</td><td>49</td><td>0</td><td>0</td><td>Yes</td><td>Private      </td><td>Urban</td><td>171.23</td><td>34.4</td><td>smokes         </td><td>1</td></tr>\n",
       "\t<tr><td> 1665</td><td>Female</td><td>79</td><td>1</td><td>0</td><td>Yes</td><td>Self-employed</td><td>Rural</td><td>174.12</td><td>24  </td><td>never smoked   </td><td>1</td></tr>\n",
       "\t<tr><td>56669</td><td>Male  </td><td>81</td><td>0</td><td>0</td><td>Yes</td><td>Private      </td><td>Urban</td><td>186.21</td><td>29  </td><td>formerly smoked</td><td>1</td></tr>\n",
       "</tbody>\n",
       "</table>\n"
      ],
      "text/latex": [
       "A tibble: 6 × 12\n",
       "\\begin{tabular}{llllllllllll}\n",
       " id & gender & age & hypertension & heart\\_disease & ever\\_married & work\\_type & Residence\\_type & avg\\_glucose\\_level & bmi & smoking\\_status & stroke\\\\\n",
       " <dbl> & <chr> & <dbl> & <dbl> & <dbl> & <chr> & <chr> & <chr> & <dbl> & <chr> & <chr> & <dbl>\\\\\n",
       "\\hline\n",
       "\t  9046 & Male   & 67 & 0 & 1 & Yes & Private       & Urban & 228.69 & 36.6 & formerly smoked & 1\\\\\n",
       "\t 51676 & Female & 61 & 0 & 0 & Yes & Self-employed & Rural & 202.21 & N/A  & never smoked    & 1\\\\\n",
       "\t 31112 & Male   & 80 & 0 & 1 & Yes & Private       & Rural & 105.92 & 32.5 & never smoked    & 1\\\\\n",
       "\t 60182 & Female & 49 & 0 & 0 & Yes & Private       & Urban & 171.23 & 34.4 & smokes          & 1\\\\\n",
       "\t  1665 & Female & 79 & 1 & 0 & Yes & Self-employed & Rural & 174.12 & 24   & never smoked    & 1\\\\\n",
       "\t 56669 & Male   & 81 & 0 & 0 & Yes & Private       & Urban & 186.21 & 29   & formerly smoked & 1\\\\\n",
       "\\end{tabular}\n"
      ],
      "text/markdown": [
       "\n",
       "A tibble: 6 × 12\n",
       "\n",
       "| id &lt;dbl&gt; | gender &lt;chr&gt; | age &lt;dbl&gt; | hypertension &lt;dbl&gt; | heart_disease &lt;dbl&gt; | ever_married &lt;chr&gt; | work_type &lt;chr&gt; | Residence_type &lt;chr&gt; | avg_glucose_level &lt;dbl&gt; | bmi &lt;chr&gt; | smoking_status &lt;chr&gt; | stroke &lt;dbl&gt; |\n",
       "|---|---|---|---|---|---|---|---|---|---|---|---|\n",
       "|  9046 | Male   | 67 | 0 | 1 | Yes | Private       | Urban | 228.69 | 36.6 | formerly smoked | 1 |\n",
       "| 51676 | Female | 61 | 0 | 0 | Yes | Self-employed | Rural | 202.21 | N/A  | never smoked    | 1 |\n",
       "| 31112 | Male   | 80 | 0 | 1 | Yes | Private       | Rural | 105.92 | 32.5 | never smoked    | 1 |\n",
       "| 60182 | Female | 49 | 0 | 0 | Yes | Private       | Urban | 171.23 | 34.4 | smokes          | 1 |\n",
       "|  1665 | Female | 79 | 1 | 0 | Yes | Self-employed | Rural | 174.12 | 24   | never smoked    | 1 |\n",
       "| 56669 | Male   | 81 | 0 | 0 | Yes | Private       | Urban | 186.21 | 29   | formerly smoked | 1 |\n",
       "\n"
      ],
      "text/plain": [
       "  id    gender age hypertension heart_disease ever_married work_type    \n",
       "1  9046 Male   67  0            1             Yes          Private      \n",
       "2 51676 Female 61  0            0             Yes          Self-employed\n",
       "3 31112 Male   80  0            1             Yes          Private      \n",
       "4 60182 Female 49  0            0             Yes          Private      \n",
       "5  1665 Female 79  1            0             Yes          Self-employed\n",
       "6 56669 Male   81  0            0             Yes          Private      \n",
       "  Residence_type avg_glucose_level bmi  smoking_status  stroke\n",
       "1 Urban          228.69            36.6 formerly smoked 1     \n",
       "2 Rural          202.21            N/A  never smoked    1     \n",
       "3 Rural          105.92            32.5 never smoked    1     \n",
       "4 Urban          171.23            34.4 smokes          1     \n",
       "5 Rural          174.12            24   never smoked    1     \n",
       "6 Urban          186.21            29   formerly smoked 1     "
      ]
     },
     "metadata": {},
     "output_type": "display_data"
    }
   ],
   "source": [
    "set.seed(1)\n",
    "stroke_data <- read_csv(\"stroke_data.csv\")\n",
    "\n",
    "head(stroke_data)"
   ]
  },
  {
   "cell_type": "code",
   "execution_count": 3,
   "id": "460bbda5-bfec-4831-9e00-a972148b5977",
   "metadata": {},
   "outputs": [
    {
     "name": "stderr",
     "output_type": "stream",
     "text": [
      "Warning message:\n",
      "“\u001b[1m\u001b[22mThere was 1 warning in `mutate()`.\n",
      "\u001b[1m\u001b[22m\u001b[36mℹ\u001b[39m In argument: `bmi = as.numeric(bmi)`.\n",
      "Caused by warning:\n",
      "\u001b[33m!\u001b[39m NAs introduced by coercion”\n"
     ]
    },
    {
     "data": {
      "text/html": [
       "<table class=\"dataframe\">\n",
       "<caption>A tibble: 6 × 6</caption>\n",
       "<thead>\n",
       "\t<tr><th scope=col>age</th><th scope=col>avg_glucose_level</th><th scope=col>bmi</th><th scope=col>hypertension</th><th scope=col>heart_disease</th><th scope=col>stroke</th></tr>\n",
       "\t<tr><th scope=col>&lt;dbl&gt;</th><th scope=col>&lt;dbl&gt;</th><th scope=col>&lt;dbl&gt;</th><th scope=col>&lt;dbl&gt;</th><th scope=col>&lt;dbl&gt;</th><th scope=col>&lt;fct&gt;</th></tr>\n",
       "</thead>\n",
       "<tbody>\n",
       "\t<tr><td>67</td><td>228.69</td><td>36.6</td><td>0</td><td>1</td><td>Stroke</td></tr>\n",
       "\t<tr><td>80</td><td>105.92</td><td>32.5</td><td>0</td><td>1</td><td>Stroke</td></tr>\n",
       "\t<tr><td>49</td><td>171.23</td><td>34.4</td><td>0</td><td>0</td><td>Stroke</td></tr>\n",
       "\t<tr><td>79</td><td>174.12</td><td>24.0</td><td>1</td><td>0</td><td>Stroke</td></tr>\n",
       "\t<tr><td>81</td><td>186.21</td><td>29.0</td><td>0</td><td>0</td><td>Stroke</td></tr>\n",
       "\t<tr><td>74</td><td> 70.09</td><td>27.4</td><td>1</td><td>1</td><td>Stroke</td></tr>\n",
       "</tbody>\n",
       "</table>\n"
      ],
      "text/latex": [
       "A tibble: 6 × 6\n",
       "\\begin{tabular}{llllll}\n",
       " age & avg\\_glucose\\_level & bmi & hypertension & heart\\_disease & stroke\\\\\n",
       " <dbl> & <dbl> & <dbl> & <dbl> & <dbl> & <fct>\\\\\n",
       "\\hline\n",
       "\t 67 & 228.69 & 36.6 & 0 & 1 & Stroke\\\\\n",
       "\t 80 & 105.92 & 32.5 & 0 & 1 & Stroke\\\\\n",
       "\t 49 & 171.23 & 34.4 & 0 & 0 & Stroke\\\\\n",
       "\t 79 & 174.12 & 24.0 & 1 & 0 & Stroke\\\\\n",
       "\t 81 & 186.21 & 29.0 & 0 & 0 & Stroke\\\\\n",
       "\t 74 &  70.09 & 27.4 & 1 & 1 & Stroke\\\\\n",
       "\\end{tabular}\n"
      ],
      "text/markdown": [
       "\n",
       "A tibble: 6 × 6\n",
       "\n",
       "| age &lt;dbl&gt; | avg_glucose_level &lt;dbl&gt; | bmi &lt;dbl&gt; | hypertension &lt;dbl&gt; | heart_disease &lt;dbl&gt; | stroke &lt;fct&gt; |\n",
       "|---|---|---|---|---|---|\n",
       "| 67 | 228.69 | 36.6 | 0 | 1 | Stroke |\n",
       "| 80 | 105.92 | 32.5 | 0 | 1 | Stroke |\n",
       "| 49 | 171.23 | 34.4 | 0 | 0 | Stroke |\n",
       "| 79 | 174.12 | 24.0 | 1 | 0 | Stroke |\n",
       "| 81 | 186.21 | 29.0 | 0 | 0 | Stroke |\n",
       "| 74 |  70.09 | 27.4 | 1 | 1 | Stroke |\n",
       "\n"
      ],
      "text/plain": [
       "  age avg_glucose_level bmi  hypertension heart_disease stroke\n",
       "1 67  228.69            36.6 0            1             Stroke\n",
       "2 80  105.92            32.5 0            1             Stroke\n",
       "3 49  171.23            34.4 0            0             Stroke\n",
       "4 79  174.12            24.0 1            0             Stroke\n",
       "5 81  186.21            29.0 0            0             Stroke\n",
       "6 74   70.09            27.4 1            1             Stroke"
      ]
     },
     "metadata": {},
     "output_type": "display_data"
    }
   ],
   "source": [
    "stroke_data_clean <- stroke_data|>\n",
    "    mutate(bmi = as.numeric(bmi))|>\n",
    "    filter(!is.na(bmi))|>\n",
    "    mutate(stroke = factor(stroke, levels = c(0, 1), labels = c(\"No Stroke\", \"Stroke\")))|>\n",
    "    select(age,avg_glucose_level,bmi, hypertension, heart_disease, stroke)\n",
    "\n",
    "head(stroke_data_clean)"
   ]
  },
  {
   "cell_type": "code",
   "execution_count": 4,
   "id": "fbf2ac1c-0cb0-443f-8d7d-74b1207df298",
   "metadata": {},
   "outputs": [],
   "source": [
    "stroke_split <- initial_split(stroke_data_clean, prop = 0.75, strata = stroke)\n",
    "stroke_train <- training(stroke_split)\n",
    "stroke_test <- testing(stroke_split)"
   ]
  },
  {
   "cell_type": "code",
   "execution_count": 5,
   "id": "f10c0458-b13a-4f23-a7f0-832fddafe057",
   "metadata": {},
   "outputs": [
    {
     "data": {
      "text/html": [
       "<table class=\"dataframe\">\n",
       "<caption>A tibble: 6 × 6</caption>\n",
       "<thead>\n",
       "\t<tr><th scope=col>age</th><th scope=col>avg_glucose_level</th><th scope=col>bmi</th><th scope=col>hypertension</th><th scope=col>heart_disease</th><th scope=col>stroke</th></tr>\n",
       "\t<tr><th scope=col>&lt;dbl&gt;</th><th scope=col>&lt;dbl&gt;</th><th scope=col>&lt;dbl&gt;</th><th scope=col>&lt;dbl&gt;</th><th scope=col>&lt;dbl&gt;</th><th scope=col>&lt;fct&gt;</th></tr>\n",
       "</thead>\n",
       "<tbody>\n",
       "\t<tr><td>67</td><td>228.69</td><td>36.6</td><td>0</td><td>1</td><td>Stroke</td></tr>\n",
       "\t<tr><td>49</td><td>171.23</td><td>34.4</td><td>0</td><td>0</td><td>Stroke</td></tr>\n",
       "\t<tr><td>79</td><td>174.12</td><td>24.0</td><td>1</td><td>0</td><td>Stroke</td></tr>\n",
       "\t<tr><td>69</td><td> 94.39</td><td>22.8</td><td>0</td><td>0</td><td>Stroke</td></tr>\n",
       "\t<tr><td>81</td><td> 80.43</td><td>29.7</td><td>1</td><td>0</td><td>Stroke</td></tr>\n",
       "\t<tr><td>54</td><td>104.51</td><td>27.3</td><td>0</td><td>0</td><td>Stroke</td></tr>\n",
       "</tbody>\n",
       "</table>\n"
      ],
      "text/latex": [
       "A tibble: 6 × 6\n",
       "\\begin{tabular}{llllll}\n",
       " age & avg\\_glucose\\_level & bmi & hypertension & heart\\_disease & stroke\\\\\n",
       " <dbl> & <dbl> & <dbl> & <dbl> & <dbl> & <fct>\\\\\n",
       "\\hline\n",
       "\t 67 & 228.69 & 36.6 & 0 & 1 & Stroke\\\\\n",
       "\t 49 & 171.23 & 34.4 & 0 & 0 & Stroke\\\\\n",
       "\t 79 & 174.12 & 24.0 & 1 & 0 & Stroke\\\\\n",
       "\t 69 &  94.39 & 22.8 & 0 & 0 & Stroke\\\\\n",
       "\t 81 &  80.43 & 29.7 & 1 & 0 & Stroke\\\\\n",
       "\t 54 & 104.51 & 27.3 & 0 & 0 & Stroke\\\\\n",
       "\\end{tabular}\n"
      ],
      "text/markdown": [
       "\n",
       "A tibble: 6 × 6\n",
       "\n",
       "| age &lt;dbl&gt; | avg_glucose_level &lt;dbl&gt; | bmi &lt;dbl&gt; | hypertension &lt;dbl&gt; | heart_disease &lt;dbl&gt; | stroke &lt;fct&gt; |\n",
       "|---|---|---|---|---|---|\n",
       "| 67 | 228.69 | 36.6 | 0 | 1 | Stroke |\n",
       "| 49 | 171.23 | 34.4 | 0 | 0 | Stroke |\n",
       "| 79 | 174.12 | 24.0 | 1 | 0 | Stroke |\n",
       "| 69 |  94.39 | 22.8 | 0 | 0 | Stroke |\n",
       "| 81 |  80.43 | 29.7 | 1 | 0 | Stroke |\n",
       "| 54 | 104.51 | 27.3 | 0 | 0 | Stroke |\n",
       "\n"
      ],
      "text/plain": [
       "  age avg_glucose_level bmi  hypertension heart_disease stroke\n",
       "1 67  228.69            36.6 0            1             Stroke\n",
       "2 49  171.23            34.4 0            0             Stroke\n",
       "3 79  174.12            24.0 1            0             Stroke\n",
       "4 69   94.39            22.8 0            0             Stroke\n",
       "5 81   80.43            29.7 1            0             Stroke\n",
       "6 54  104.51            27.3 0            0             Stroke"
      ]
     },
     "metadata": {},
     "output_type": "display_data"
    }
   ],
   "source": [
    "head(stroke_train)"
   ]
  },
  {
   "cell_type": "code",
   "execution_count": 6,
   "id": "bb447212-7eb6-4451-81a6-5662b6b19f35",
   "metadata": {},
   "outputs": [
    {
     "data": {
      "text/html": [
       "<table class=\"dataframe\">\n",
       "<caption>A tibble: 6 × 6</caption>\n",
       "<thead>\n",
       "\t<tr><th scope=col>stroke</th><th scope=col>age</th><th scope=col>avg_glucose_level</th><th scope=col>bmi</th><th scope=col>hypertension</th><th scope=col>heart_disease</th></tr>\n",
       "\t<tr><th scope=col>&lt;fct&gt;</th><th scope=col>&lt;dbl&gt;</th><th scope=col>&lt;dbl&gt;</th><th scope=col>&lt;dbl&gt;</th><th scope=col>&lt;dbl&gt;</th><th scope=col>&lt;dbl&gt;</th></tr>\n",
       "</thead>\n",
       "<tbody>\n",
       "\t<tr><td>Stroke</td><td>67</td><td>228.69</td><td>36.6</td><td>0</td><td>1</td></tr>\n",
       "\t<tr><td>Stroke</td><td>80</td><td>105.92</td><td>32.5</td><td>0</td><td>1</td></tr>\n",
       "\t<tr><td>Stroke</td><td>49</td><td>171.23</td><td>34.4</td><td>0</td><td>0</td></tr>\n",
       "\t<tr><td>Stroke</td><td>79</td><td>174.12</td><td>24.0</td><td>1</td><td>0</td></tr>\n",
       "\t<tr><td>Stroke</td><td>81</td><td>186.21</td><td>29.0</td><td>0</td><td>0</td></tr>\n",
       "\t<tr><td>Stroke</td><td>74</td><td> 70.09</td><td>27.4</td><td>1</td><td>1</td></tr>\n",
       "</tbody>\n",
       "</table>\n"
      ],
      "text/latex": [
       "A tibble: 6 × 6\n",
       "\\begin{tabular}{llllll}\n",
       " stroke & age & avg\\_glucose\\_level & bmi & hypertension & heart\\_disease\\\\\n",
       " <fct> & <dbl> & <dbl> & <dbl> & <dbl> & <dbl>\\\\\n",
       "\\hline\n",
       "\t Stroke & 67 & 228.69 & 36.6 & 0 & 1\\\\\n",
       "\t Stroke & 80 & 105.92 & 32.5 & 0 & 1\\\\\n",
       "\t Stroke & 49 & 171.23 & 34.4 & 0 & 0\\\\\n",
       "\t Stroke & 79 & 174.12 & 24.0 & 1 & 0\\\\\n",
       "\t Stroke & 81 & 186.21 & 29.0 & 0 & 0\\\\\n",
       "\t Stroke & 74 &  70.09 & 27.4 & 1 & 1\\\\\n",
       "\\end{tabular}\n"
      ],
      "text/markdown": [
       "\n",
       "A tibble: 6 × 6\n",
       "\n",
       "| stroke &lt;fct&gt; | age &lt;dbl&gt; | avg_glucose_level &lt;dbl&gt; | bmi &lt;dbl&gt; | hypertension &lt;dbl&gt; | heart_disease &lt;dbl&gt; |\n",
       "|---|---|---|---|---|---|\n",
       "| Stroke | 67 | 228.69 | 36.6 | 0 | 1 |\n",
       "| Stroke | 80 | 105.92 | 32.5 | 0 | 1 |\n",
       "| Stroke | 49 | 171.23 | 34.4 | 0 | 0 |\n",
       "| Stroke | 79 | 174.12 | 24.0 | 1 | 0 |\n",
       "| Stroke | 81 | 186.21 | 29.0 | 0 | 0 |\n",
       "| Stroke | 74 |  70.09 | 27.4 | 1 | 1 |\n",
       "\n"
      ],
      "text/plain": [
       "  stroke age avg_glucose_level bmi  hypertension heart_disease\n",
       "1 Stroke 67  228.69            36.6 0            1            \n",
       "2 Stroke 80  105.92            32.5 0            1            \n",
       "3 Stroke 49  171.23            34.4 0            0            \n",
       "4 Stroke 79  174.12            24.0 1            0            \n",
       "5 Stroke 81  186.21            29.0 0            0            \n",
       "6 Stroke 74   70.09            27.4 1            1            "
      ]
     },
     "metadata": {},
     "output_type": "display_data"
    },
    {
     "data": {
      "text/html": [
       "<style>\n",
       ".list-inline {list-style: none; margin:0; padding: 0}\n",
       ".list-inline>li {display: inline-block}\n",
       ".list-inline>li:not(:last-child)::after {content: \"\\00b7\"; padding: 0 .5ex}\n",
       "</style>\n",
       "<ol class=list-inline><li>'age'</li><li>'avg_glucose_level'</li><li>'bmi'</li><li>'hypertension'</li><li>'heart_disease'</li></ol>\n"
      ],
      "text/latex": [
       "\\begin{enumerate*}\n",
       "\\item 'age'\n",
       "\\item 'avg\\_glucose\\_level'\n",
       "\\item 'bmi'\n",
       "\\item 'hypertension'\n",
       "\\item 'heart\\_disease'\n",
       "\\end{enumerate*}\n"
      ],
      "text/markdown": [
       "1. 'age'\n",
       "2. 'avg_glucose_level'\n",
       "3. 'bmi'\n",
       "4. 'hypertension'\n",
       "5. 'heart_disease'\n",
       "\n",
       "\n"
      ],
      "text/plain": [
       "[1] \"age\"               \"avg_glucose_level\" \"bmi\"              \n",
       "[4] \"hypertension\"      \"heart_disease\"    "
      ]
     },
     "metadata": {},
     "output_type": "display_data"
    }
   ],
   "source": [
    "stroke_irrelevant <- stroke_data_clean|>\n",
    "    select(stroke, age, avg_glucose_level, bmi, hypertension, heart_disease)\n",
    "\n",
    "stroke_subset <- stroke_irrelevant|>\n",
    "    select(stroke,\n",
    "               age,\n",
    "               avg_glucose_level,\n",
    "               bmi, hypertension, heart_disease)\n",
    "\n",
    "names <- colnames(stroke_subset |> select(-stroke))\n",
    "\n",
    "head(stroke_subset)\n",
    "names"
   ]
  },
  {
   "cell_type": "code",
   "execution_count": 7,
   "id": "f668b260-2301-48da-8e55-90ae327be76a",
   "metadata": {},
   "outputs": [],
   "source": [
    "stroke_recipe <- recipe(stroke ~ age + \n",
    "                       avg_glucose_level + \n",
    "                       bmi + \n",
    "                       hypertension + \n",
    "                       heart_disease, data = stroke_subset) |>\n",
    "  step_scale(all_predictors()) |>\n",
    "  step_center(all_predictors())"
   ]
  },
  {
   "cell_type": "code",
   "execution_count": 8,
   "id": "80b0ba7e-407e-4466-ba92-b7d6675bec03",
   "metadata": {},
   "outputs": [
    {
     "data": {
      "text/html": [
       "'stroke ~ age+avg_glucose_level+bmi+hypertension+heart_disease'"
      ],
      "text/latex": [
       "'stroke \\textasciitilde{} age+avg\\_glucose\\_level+bmi+hypertension+heart\\_disease'"
      ],
      "text/markdown": [
       "'stroke ~ age+avg_glucose_level+bmi+hypertension+heart_disease'"
      ],
      "text/plain": [
       "[1] \"stroke ~ age+avg_glucose_level+bmi+hypertension+heart_disease\""
      ]
     },
     "metadata": {},
     "output_type": "display_data"
    }
   ],
   "source": [
    "example_formula <- paste(\"stroke\", \"~\", paste(names, collapse=\"+\"))\n",
    "example_formula"
   ]
  },
  {
   "cell_type": "code",
   "execution_count": 9,
   "id": "152496b9-40bb-4f87-8911-c254029d0f48",
   "metadata": {},
   "outputs": [
    {
     "data": {
      "text/html": [
       "<table class=\"dataframe\">\n",
       "<caption>A tibble: 0 × 3</caption>\n",
       "<thead>\n",
       "\t<tr><th scope=col>size</th><th scope=col>model_string</th><th scope=col>accuracy</th></tr>\n",
       "\t<tr><th scope=col>&lt;int&gt;</th><th scope=col>&lt;chr&gt;</th><th scope=col>&lt;dbl&gt;</th></tr>\n",
       "</thead>\n",
       "<tbody>\n",
       "</tbody>\n",
       "</table>\n"
      ],
      "text/latex": [
       "A tibble: 0 × 3\n",
       "\\begin{tabular}{lll}\n",
       " size & model\\_string & accuracy\\\\\n",
       " <int> & <chr> & <dbl>\\\\\n",
       "\\hline\n",
       "\\end{tabular}\n"
      ],
      "text/markdown": [
       "\n",
       "A tibble: 0 × 3\n",
       "\n",
       "| size &lt;int&gt; | model_string &lt;chr&gt; | accuracy &lt;dbl&gt; |\n",
       "|---|---|---|\n",
       "\n"
      ],
      "text/plain": [
       "     size model_string accuracy"
      ]
     },
     "metadata": {},
     "output_type": "display_data"
    }
   ],
   "source": [
    "accuracies <- tibble(size = integer(),\n",
    "                     model_string = character(),\n",
    "                     accuracy = numeric())\n",
    "accuracies"
   ]
  },
  {
   "cell_type": "code",
   "execution_count": 10,
   "id": "8770939b-43f5-4b15-901d-4ca84de94c6d",
   "metadata": {},
   "outputs": [
    {
     "data": {
      "text/plain": [
       "K-Nearest Neighbor Model Specification (classification)\n",
       "\n",
       "Main Arguments:\n",
       "  neighbors = tune()\n",
       "  weight_func = rectangular\n",
       "\n",
       "Computational engine: kknn \n"
      ]
     },
     "metadata": {},
     "output_type": "display_data"
    }
   ],
   "source": [
    "knn_spec <- nearest_neighbor(weight_func = \"rectangular\",\n",
    "                             neighbors = tune()) |>\n",
    "     set_engine(\"kknn\") |>\n",
    "     set_mode(\"classification\")\n",
    "knn_spec"
   ]
  },
  {
   "cell_type": "code",
   "execution_count": 11,
   "id": "f88fac81-e2e2-4ced-994d-6dfbccc784a9",
   "metadata": {},
   "outputs": [],
   "source": [
    "stroke_vfold <- vfold_cv(stroke_subset, v = 5, strata = stroke)"
   ]
  },
  {
   "cell_type": "code",
   "execution_count": 12,
   "id": "6a16abe7-d37c-4d78-9a43-b5f4659ae3b2",
   "metadata": {},
   "outputs": [
    {
     "data": {
      "text/html": [
       "5"
      ],
      "text/latex": [
       "5"
      ],
      "text/markdown": [
       "5"
      ],
      "text/plain": [
       "[1] 5"
      ]
     },
     "metadata": {},
     "output_type": "display_data"
    }
   ],
   "source": [
    "n_total <- length(names)\n",
    "n_total"
   ]
  },
  {
   "cell_type": "code",
   "execution_count": 13,
   "id": "252e0ce9-f2ac-4f99-a69f-dbbfa497a70f",
   "metadata": {},
   "outputs": [
    {
     "data": {
      "text/plain": [
       "NULL"
      ]
     },
     "metadata": {},
     "output_type": "display_data"
    }
   ],
   "source": [
    "selected <- c()\n",
    "selected"
   ]
  },
  {
   "cell_type": "code",
   "execution_count": 14,
   "id": "4c9dfb12-2ebc-40a6-b1e9-f892ecdb33ad",
   "metadata": {},
   "outputs": [
    {
     "data": {
      "text/html": [
       "<table class=\"dataframe\">\n",
       "<caption>A tibble: 5 × 3</caption>\n",
       "<thead>\n",
       "\t<tr><th scope=col>size</th><th scope=col>model_string</th><th scope=col>accuracy</th></tr>\n",
       "\t<tr><th scope=col>&lt;int&gt;</th><th scope=col>&lt;chr&gt;</th><th scope=col>&lt;dbl&gt;</th></tr>\n",
       "</thead>\n",
       "<tbody>\n",
       "\t<tr><td>1</td><td>stroke ~ avg_glucose_level                                   </td><td>0.9574265</td></tr>\n",
       "\t<tr><td>2</td><td>stroke ~ avg_glucose_level+bmi                               </td><td>0.9576302</td></tr>\n",
       "\t<tr><td>3</td><td>stroke ~ avg_glucose_level+bmi+age                           </td><td>0.9574265</td></tr>\n",
       "\t<tr><td>4</td><td>stroke ~ avg_glucose_level+bmi+age+heart_disease             </td><td>0.9572229</td></tr>\n",
       "\t<tr><td>5</td><td>stroke ~ avg_glucose_level+bmi+age+heart_disease+hypertension</td><td>0.9570192</td></tr>\n",
       "</tbody>\n",
       "</table>\n"
      ],
      "text/latex": [
       "A tibble: 5 × 3\n",
       "\\begin{tabular}{lll}\n",
       " size & model\\_string & accuracy\\\\\n",
       " <int> & <chr> & <dbl>\\\\\n",
       "\\hline\n",
       "\t 1 & stroke \\textasciitilde{} avg\\_glucose\\_level                                    & 0.9574265\\\\\n",
       "\t 2 & stroke \\textasciitilde{} avg\\_glucose\\_level+bmi                                & 0.9576302\\\\\n",
       "\t 3 & stroke \\textasciitilde{} avg\\_glucose\\_level+bmi+age                            & 0.9574265\\\\\n",
       "\t 4 & stroke \\textasciitilde{} avg\\_glucose\\_level+bmi+age+heart\\_disease              & 0.9572229\\\\\n",
       "\t 5 & stroke \\textasciitilde{} avg\\_glucose\\_level+bmi+age+heart\\_disease+hypertension & 0.9570192\\\\\n",
       "\\end{tabular}\n"
      ],
      "text/markdown": [
       "\n",
       "A tibble: 5 × 3\n",
       "\n",
       "| size &lt;int&gt; | model_string &lt;chr&gt; | accuracy &lt;dbl&gt; |\n",
       "|---|---|---|\n",
       "| 1 | stroke ~ avg_glucose_level                                    | 0.9574265 |\n",
       "| 2 | stroke ~ avg_glucose_level+bmi                                | 0.9576302 |\n",
       "| 3 | stroke ~ avg_glucose_level+bmi+age                            | 0.9574265 |\n",
       "| 4 | stroke ~ avg_glucose_level+bmi+age+heart_disease              | 0.9572229 |\n",
       "| 5 | stroke ~ avg_glucose_level+bmi+age+heart_disease+hypertension | 0.9570192 |\n",
       "\n"
      ],
      "text/plain": [
       "  size model_string                                                  accuracy \n",
       "1 1    stroke ~ avg_glucose_level                                    0.9574265\n",
       "2 2    stroke ~ avg_glucose_level+bmi                                0.9576302\n",
       "3 3    stroke ~ avg_glucose_level+bmi+age                            0.9574265\n",
       "4 4    stroke ~ avg_glucose_level+bmi+age+heart_disease              0.9572229\n",
       "5 5    stroke ~ avg_glucose_level+bmi+age+heart_disease+hypertension 0.9570192"
      ]
     },
     "metadata": {},
     "output_type": "display_data"
    }
   ],
   "source": [
    "# for every size from 1 to the total number of predictors\n",
    "for (i in 1:n_total) {\n",
    "    # for every predictor still not added yet\n",
    "    accs <- list()\n",
    "    models <- list()\n",
    "    for (j in 1:length(names)) {\n",
    "        # create a model string for this combination of predictors\n",
    "        preds_new <- c(selected, names[[j]])\n",
    "        model_string <- paste(\"stroke\", \"~\", paste(preds_new, collapse=\"+\"))\n",
    "\n",
    "        # create a recipe from the model string\n",
    "        stroke_recipe <- recipe(as.formula(model_string),\n",
    "                                data = stroke_subset) |>\n",
    "                          step_scale(all_predictors()) |>\n",
    "                          step_center(all_predictors())\n",
    "         # tune the K-NN classifier with these predictors,\n",
    "        # and collect the accuracy for the best K\n",
    "        acc <- workflow() |>\n",
    "          add_recipe(stroke_recipe) |>\n",
    "          add_model(knn_spec) |>\n",
    "          tune_grid(resamples = stroke_vfold, grid = 10) |>\n",
    "          collect_metrics() |>\n",
    "          filter(.metric == \"accuracy\") |>\n",
    "          summarize(mx = max(mean))\n",
    "        acc <- acc$mx |> unlist()\n",
    "\n",
    "        # add this result to the dataframe\n",
    "        accs[[j]] <- acc\n",
    "        models[[j]] <- model_string\n",
    "    }\n",
    "    jstar <- which.max(unlist(accs))\n",
    "    accuracies <- accuracies |>\n",
    "      add_row(size = i,\n",
    "              model_string = models[[jstar]],\n",
    "              accuracy = accs[[jstar]])\n",
    "    selected <- c(selected, names[[jstar]])\n",
    "    names <- names[-jstar]\n",
    "}\n",
    "accuracies"
   ]
  },
  {
   "cell_type": "markdown",
   "id": "5e73ca01-2fcb-4197-8598-e7497b2730b9",
   "metadata": {},
   "source": [
    "Most accurate predictors are glucose level and bmi. "
   ]
  },
  {
   "cell_type": "code",
   "execution_count": 15,
   "id": "39b36e71-b74f-4725-b7d9-10ac9c2e5d91",
   "metadata": {},
   "outputs": [],
   "source": [
    "stroke_vfold_k <- vfold_cv(stroke_train, v = 5, strata = stroke)"
   ]
  },
  {
   "cell_type": "code",
   "execution_count": 16,
   "id": "85f8a35b-c759-460b-beaa-d7d1e9a5fd51",
   "metadata": {},
   "outputs": [],
   "source": [
    "stroke_recipe_k <- recipe(stroke ~ \n",
    "                       avg_glucose_level + \n",
    "                       bmi, data = stroke_subset) |>\n",
    "  step_scale(all_predictors()) |>\n",
    "  step_center(all_predictors())"
   ]
  },
  {
   "cell_type": "code",
   "execution_count": 17,
   "id": "4c31f555-dcd9-43da-a54e-30068dd18088",
   "metadata": {},
   "outputs": [],
   "source": [
    "knn_spec_k <- nearest_neighbor(weight_func = \"rectangular\",\n",
    "                             neighbors = tune()) |>\n",
    "  set_engine(\"kknn\") |>\n",
    "  set_mode(\"classification\")"
   ]
  },
  {
   "cell_type": "code",
   "execution_count": 21,
   "id": "e9164649-5d4a-48ff-9c3f-d9bc8a82c631",
   "metadata": {},
   "outputs": [],
   "source": [
    "k_vals <- tibble(neighbors = seq(from = 1, to = 100, by = 5))\n",
    "\n",
    "knn_results <- workflow() |>\n",
    "  add_recipe(stroke_recipe_k) |>\n",
    "  add_model(knn_spec_k) |>\n",
    "  tune_grid(resamples = stroke_vfold_k, grid = k_vals) |>\n",
    "  collect_metrics()\n",
    "\n",
    "accuracies_k <- knn_results |>\n",
    "  filter(.metric == \"accuracy\")"
   ]
  },
  {
   "cell_type": "code",
   "execution_count": 22,
   "id": "24ccbb02-b946-4ade-951e-297a28d2f627",
   "metadata": {},
   "outputs": [
    {
     "data": {
      "text/html": [
       "11"
      ],
      "text/latex": [
       "11"
      ],
      "text/markdown": [
       "11"
      ],
      "text/plain": [
       "[1] 11"
      ]
     },
     "metadata": {},
     "output_type": "display_data"
    }
   ],
   "source": [
    "best_k <- accuracies_k |>\n",
    "        arrange(desc(mean)) |>\n",
    "        head(1) |>\n",
    "        pull(neighbors)\n",
    "best_k"
   ]
  },
  {
   "cell_type": "code",
   "execution_count": null,
   "id": "75fb03c1-85cd-43eb-aeb9-840a0451462c",
   "metadata": {},
   "outputs": [],
   "source": []
  },
  {
   "cell_type": "code",
   "execution_count": null,
   "id": "72e72479-9769-4e86-87e3-1b3d44f7dd69",
   "metadata": {},
   "outputs": [],
   "source": []
  }
 ],
 "metadata": {
  "kernelspec": {
   "display_name": "R",
   "language": "R",
   "name": "ir"
  },
  "language_info": {
   "codemirror_mode": "r",
   "file_extension": ".r",
   "mimetype": "text/x-r-source",
   "name": "R",
   "pygments_lexer": "r",
   "version": "4.3.1"
  }
 },
 "nbformat": 4,
 "nbformat_minor": 5
}
